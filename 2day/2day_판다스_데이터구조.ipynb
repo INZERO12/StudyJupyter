{
 "cells": [
  {
   "cell_type": "markdown",
   "id": "234d3352",
   "metadata": {},
   "source": [
    "# 1. 판다스 데이터\n",
    "#### - 세가지의 자료구조를 지원\n",
    "#### - 1차원 자료구조인 시리즈(Series),  2차원 자료구조인 데이터프레임(DataFrame)을 지원\n",
    "  \n",
    "## 1.1 시리즈\n",
    "####  - 모든 데이터 유형을 저장 할 수 있는 1차원 레이블이 지정된 배열\n",
    "#### - 열 레이블을 총칭하여 인덱스라고 한다\n",
    "#### - 인덱스와 짝지어진 데이터로 되어 있다\n",
    "#### - 딕셔너리, 리스트, 튜플 등으로 만들 수 있다"
   ]
  },
  {
   "cell_type": "code",
   "execution_count": 3,
   "id": "9c8d1e29",
   "metadata": {},
   "outputs": [],
   "source": [
    "# 라이브러리 불러들이기\n",
    "import pandas as pd"
   ]
  },
  {
   "cell_type": "code",
   "execution_count": 5,
   "id": "8d242ec8",
   "metadata": {},
   "outputs": [
    {
     "data": {
      "text/plain": [
       "0       Doc\n",
       "1       Cat\n",
       "2     Tiger\n",
       "3      Lion\n",
       "4    Monkey\n",
       "dtype: object"
      ]
     },
     "execution_count": 5,
     "metadata": {},
     "output_type": "execute_result"
    }
   ],
   "source": [
    "sd1 = pd.Series(['Doc','Cat','Tiger','Lion','Monkey'])\n",
    "\n",
    "sd1"
   ]
  },
  {
   "cell_type": "code",
   "execution_count": 8,
   "id": "2117c231",
   "metadata": {},
   "outputs": [
    {
     "data": {
      "text/plain": [
       "00       Doc\n",
       "11       Cat\n",
       "22     Tiger\n",
       "33      Lion\n",
       "44    Monkey\n",
       "dtype: object"
      ]
     },
     "execution_count": 8,
     "metadata": {},
     "output_type": "execute_result"
    }
   ],
   "source": [
    "sd1 = pd.Series(['Doc','Cat','Tiger','Lion','Monkey'],\n",
    "                 index = ['00','11','22','33','44'])\n",
    "\n",
    "sd1"
   ]
  },
  {
   "cell_type": "markdown",
   "id": "adc42f61",
   "metadata": {},
   "source": [
    "### 1.1.1 딕셔너리 -> 시리즈로"
   ]
  },
  {
   "cell_type": "code",
   "execution_count": 11,
   "id": "f8e91617",
   "metadata": {},
   "outputs": [
    {
     "data": {
      "text/plain": [
       "{'a': 1, 'b': 2, 'c': 3}"
      ]
     },
     "execution_count": 11,
     "metadata": {},
     "output_type": "execute_result"
    }
   ],
   "source": [
    "dict_data = {'a':1,'b':2,'c':3}\n",
    "\n",
    "dict_data"
   ]
  },
  {
   "cell_type": "code",
   "execution_count": 13,
   "id": "25ba63cf",
   "metadata": {},
   "outputs": [
    {
     "data": {
      "text/plain": [
       "a    1\n",
       "b    2\n",
       "c    3\n",
       "dtype: int64"
      ]
     },
     "execution_count": 13,
     "metadata": {},
     "output_type": "execute_result"
    }
   ],
   "source": [
    "sd2 = pd.Series(dict_data)\n",
    "\n",
    "sd2"
   ]
  },
  {
   "cell_type": "code",
   "execution_count": 14,
   "id": "490ef8c9",
   "metadata": {},
   "outputs": [
    {
     "data": {
      "text/plain": [
       "pandas.core.series.Series"
      ]
     },
     "execution_count": 14,
     "metadata": {},
     "output_type": "execute_result"
    }
   ],
   "source": [
    "type(sd2)"
   ]
  },
  {
   "cell_type": "markdown",
   "id": "26a93dec",
   "metadata": {},
   "source": [
    "### 1.1.2 리스트 -> 시리즈로"
   ]
  },
  {
   "cell_type": "code",
   "execution_count": 15,
   "id": "89f40b44",
   "metadata": {},
   "outputs": [
    {
     "data": {
      "text/plain": [
       "['Doc', 'Cat', 'Tiger']"
      ]
     },
     "execution_count": 15,
     "metadata": {},
     "output_type": "execute_result"
    }
   ],
   "source": [
    "list_data = ['Doc','Cat','Tiger']\n",
    "\n",
    "list_data"
   ]
  },
  {
   "cell_type": "code",
   "execution_count": 16,
   "id": "2c515e68",
   "metadata": {},
   "outputs": [
    {
     "data": {
      "text/plain": [
       "0      Doc\n",
       "1      Cat\n",
       "2    Tiger\n",
       "dtype: object"
      ]
     },
     "execution_count": 16,
     "metadata": {},
     "output_type": "execute_result"
    }
   ],
   "source": [
    "sd3 = pd.Series(list_data)\n",
    "\n",
    "sd3"
   ]
  },
  {
   "cell_type": "code",
   "execution_count": 17,
   "id": "57f6b9f3",
   "metadata": {},
   "outputs": [
    {
     "data": {
      "text/plain": [
       "pandas.core.series.Series"
      ]
     },
     "execution_count": 17,
     "metadata": {},
     "output_type": "execute_result"
    }
   ],
   "source": [
    "type(sd3)"
   ]
  },
  {
   "cell_type": "markdown",
   "id": "3c504d42",
   "metadata": {},
   "source": [
    "### 1.1.3 튜플 -> 시리즈"
   ]
  },
  {
   "cell_type": "code",
   "execution_count": 18,
   "id": "7f6fba8e",
   "metadata": {},
   "outputs": [],
   "source": [
    "# '이순신','1991-03-15','남자'\n",
    "# 위 데이터를 튜플로 만들기"
   ]
  },
  {
   "cell_type": "code",
   "execution_count": 20,
   "id": "9aa1d2ae",
   "metadata": {},
   "outputs": [
    {
     "data": {
      "text/plain": [
       "('이순신', '1991-03-15', '남자')"
      ]
     },
     "execution_count": 20,
     "metadata": {},
     "output_type": "execute_result"
    }
   ],
   "source": [
    "tuple_data = ('이순신','1991-03-15','남자')\n",
    "\n",
    "tuple_data"
   ]
  },
  {
   "cell_type": "code",
   "execution_count": 24,
   "id": "2fa27319",
   "metadata": {},
   "outputs": [
    {
     "data": {
      "text/plain": [
       "이름             이순신\n",
       "생년월일    1991-03-15\n",
       "성별              남자\n",
       "dtype: object"
      ]
     },
     "execution_count": 24,
     "metadata": {},
     "output_type": "execute_result"
    }
   ],
   "source": [
    "col_name = [\"이름\",\"생년월일\",\"성별\"]\n",
    "\n",
    "sd4 = pd.Series(tuple_data,\n",
    "                index = [col_name])\n",
    "\n",
    "sd4"
   ]
  },
  {
   "cell_type": "code",
   "execution_count": 25,
   "id": "c26a4a05",
   "metadata": {},
   "outputs": [
    {
     "data": {
      "text/plain": [
       "pandas.core.series.Series"
      ]
     },
     "execution_count": 25,
     "metadata": {},
     "output_type": "execute_result"
    }
   ],
   "source": [
    "type(sd4)"
   ]
  },
  {
   "cell_type": "markdown",
   "id": "25a37fa3",
   "metadata": {},
   "source": [
    "## 1.2 데이터프레임\n",
    "#### - 엑셀의 스프레드시트 형태로 행과 열 자료구조\n",
    "#### - 각 열에서는 서로 다른 종류의 값을 가질 수 있다\n",
    "#### - 시리즈가 복수 개 합쳐진 것\n",
    "#### - 파이썬 데이터프레임은 판다스에서 제공하는 기본구조\n",
    "#### - 데이터 분석 시 가장 많이 보게 되는 구조\n",
    "#### - 데이터프레임을 딕셔너리와 리스트로 만드는 차이점\n",
    "#### - 딕셔너리로 만들면 데이터프레임의 열을 하나씩 쌓아가는 형태\n",
    "#### - 리스트로 만들면 행을 하나씩 쌓아가는 형태"
   ]
  },
  {
   "cell_type": "markdown",
   "id": "88f617ba",
   "metadata": {},
   "source": [
    "### 1.2.1 딕셔너리 -> 데이터프레임으로"
   ]
  },
  {
   "cell_type": "code",
   "execution_count": null,
   "id": "7c314ff6",
   "metadata": {},
   "outputs": [],
   "source": [
    "# 동물 : 'Dog','Cat','Tiger','Lion','Monkey'\n",
    "# 나이 : 7,9,2,3,1\n",
    "# 위에 동물과 나이를 하나의 딕셔너리로 만들어라"
   ]
  },
  {
   "cell_type": "code",
   "execution_count": 29,
   "id": "e99e2164",
   "metadata": {},
   "outputs": [
    {
     "data": {
      "text/plain": [
       "{'동물': ['Dog', 'Cat', 'Tiger', 'Lion', 'Monkey'], '나이': [7, 9, 2, 3, 1]}"
      ]
     },
     "execution_count": 29,
     "metadata": {},
     "output_type": "execute_result"
    }
   ],
   "source": [
    "dic_data = {'동물':['Dog','Cat','Tiger','Lion','Monkey'],\n",
    "             '나이':[7,9,2,3,1]}\n",
    "\n",
    "dic_data"
   ]
  },
  {
   "cell_type": "code",
   "execution_count": 34,
   "id": "ffcffa88",
   "metadata": {},
   "outputs": [
    {
     "data": {
      "text/html": [
       "<div>\n",
       "<style scoped>\n",
       "    .dataframe tbody tr th:only-of-type {\n",
       "        vertical-align: middle;\n",
       "    }\n",
       "\n",
       "    .dataframe tbody tr th {\n",
       "        vertical-align: top;\n",
       "    }\n",
       "\n",
       "    .dataframe thead th {\n",
       "        text-align: right;\n",
       "    }\n",
       "</style>\n",
       "<table border=\"1\" class=\"dataframe\">\n",
       "  <thead>\n",
       "    <tr style=\"text-align: right;\">\n",
       "      <th></th>\n",
       "      <th>동물</th>\n",
       "      <th>나이</th>\n",
       "    </tr>\n",
       "  </thead>\n",
       "  <tbody>\n",
       "    <tr>\n",
       "      <th>0</th>\n",
       "      <td>Dog</td>\n",
       "      <td>7</td>\n",
       "    </tr>\n",
       "    <tr>\n",
       "      <th>1</th>\n",
       "      <td>Cat</td>\n",
       "      <td>9</td>\n",
       "    </tr>\n",
       "    <tr>\n",
       "      <th>2</th>\n",
       "      <td>Tiger</td>\n",
       "      <td>2</td>\n",
       "    </tr>\n",
       "    <tr>\n",
       "      <th>3</th>\n",
       "      <td>Lion</td>\n",
       "      <td>3</td>\n",
       "    </tr>\n",
       "    <tr>\n",
       "      <th>4</th>\n",
       "      <td>Monkey</td>\n",
       "      <td>1</td>\n",
       "    </tr>\n",
       "  </tbody>\n",
       "</table>\n",
       "</div>"
      ],
      "text/plain": [
       "       동물  나이\n",
       "0     Dog   7\n",
       "1     Cat   9\n",
       "2   Tiger   2\n",
       "3    Lion   3\n",
       "4  Monkey   1"
      ]
     },
     "execution_count": 34,
     "metadata": {},
     "output_type": "execute_result"
    }
   ],
   "source": [
    "# 데이터프레임으로 만들기\n",
    "\n",
    "df1 = pd.DataFrame({'동물':['Dog','Cat','Tiger','Lion','Monkey'],\n",
    "             '나이':[7,9,2,3,1]})\n",
    "df1"
   ]
  },
  {
   "cell_type": "code",
   "execution_count": 35,
   "id": "9c4f0069",
   "metadata": {},
   "outputs": [
    {
     "data": {
      "text/plain": [
       "pandas.core.frame.DataFrame"
      ]
     },
     "execution_count": 35,
     "metadata": {},
     "output_type": "execute_result"
    }
   ],
   "source": [
    "type(df1)"
   ]
  },
  {
   "cell_type": "markdown",
   "id": "b7a52294",
   "metadata": {},
   "source": [
    "### 1.2.2 리스트 -> 데이터프레임으로"
   ]
  },
  {
   "cell_type": "code",
   "execution_count": 37,
   "id": "7f7de032",
   "metadata": {},
   "outputs": [
    {
     "data": {
      "text/plain": [
       "[['Dog', 7], ['Cat', 9], ['Tiger', 2], ['Lion', 3], ['Monkey', 1]]"
      ]
     },
     "execution_count": 37,
     "metadata": {},
     "output_type": "execute_result"
    }
   ],
   "source": [
    "list_data = [['Dog',7],\n",
    "             ['Cat',9],\n",
    "             ['Tiger',2],\n",
    "             ['Lion',3],\n",
    "             ['Monkey',1]]\n",
    "\n",
    "list_data"
   ]
  },
  {
   "cell_type": "code",
   "execution_count": 41,
   "id": "3a556cfb",
   "metadata": {},
   "outputs": [
    {
     "name": "stdout",
     "output_type": "stream",
     "text": [
      "       동물  나이\n",
      "0     Dog   7\n",
      "1     Cat   9\n",
      "2   Tiger   2\n",
      "3    Lion   3\n",
      "4  Monkey   1\n",
      "<class 'pandas.core.frame.DataFrame'>\n",
      "동물    object\n",
      "나이     int64\n",
      "dtype: object\n"
     ]
    }
   ],
   "source": [
    "# 데이터프레임으로 만들기\n",
    "df2 = pd.DataFrame(list_data,\n",
    "                   columns = ['동물','나이'])\n",
    "\n",
    "print(df2)\n",
    "print(type(df2))\n",
    "print(df2.dtypes) # 각각의 열의 데이터 타입"
   ]
  },
  {
   "cell_type": "code",
   "execution_count": null,
   "id": "2619e7e2",
   "metadata": {},
   "outputs": [],
   "source": []
  },
  {
   "cell_type": "markdown",
   "id": "f76816fa",
   "metadata": {},
   "source": [
    "### 1.2.3 비어 있는 데이터프레임만들기"
   ]
  },
  {
   "cell_type": "code",
   "execution_count": 44,
   "id": "1df01d58",
   "metadata": {},
   "outputs": [
    {
     "data": {
      "text/html": [
       "<div>\n",
       "<style scoped>\n",
       "    .dataframe tbody tr th:only-of-type {\n",
       "        vertical-align: middle;\n",
       "    }\n",
       "\n",
       "    .dataframe tbody tr th {\n",
       "        vertical-align: top;\n",
       "    }\n",
       "\n",
       "    .dataframe thead th {\n",
       "        text-align: right;\n",
       "    }\n",
       "</style>\n",
       "<table border=\"1\" class=\"dataframe\">\n",
       "  <thead>\n",
       "    <tr style=\"text-align: right;\">\n",
       "      <th></th>\n",
       "    </tr>\n",
       "  </thead>\n",
       "  <tbody>\n",
       "  </tbody>\n",
       "</table>\n",
       "</div>"
      ],
      "text/plain": [
       "Empty DataFrame\n",
       "Columns: []\n",
       "Index: []"
      ]
     },
     "execution_count": 44,
     "metadata": {},
     "output_type": "execute_result"
    }
   ],
   "source": [
    "df_null = pd.DataFrame()\n",
    "\n",
    "df_null"
   ]
  },
  {
   "cell_type": "code",
   "execution_count": 45,
   "id": "5ea6de05",
   "metadata": {},
   "outputs": [
    {
     "data": {
      "text/html": [
       "<div>\n",
       "<style scoped>\n",
       "    .dataframe tbody tr th:only-of-type {\n",
       "        vertical-align: middle;\n",
       "    }\n",
       "\n",
       "    .dataframe tbody tr th {\n",
       "        vertical-align: top;\n",
       "    }\n",
       "\n",
       "    .dataframe thead th {\n",
       "        text-align: right;\n",
       "    }\n",
       "</style>\n",
       "<table border=\"1\" class=\"dataframe\">\n",
       "  <thead>\n",
       "    <tr style=\"text-align: right;\">\n",
       "      <th></th>\n",
       "      <th>동물</th>\n",
       "    </tr>\n",
       "  </thead>\n",
       "  <tbody>\n",
       "  </tbody>\n",
       "</table>\n",
       "</div>"
      ],
      "text/plain": [
       "Empty DataFrame\n",
       "Columns: [동물]\n",
       "Index: []"
      ]
     },
     "execution_count": 45,
     "metadata": {},
     "output_type": "execute_result"
    }
   ],
   "source": [
    "# 컬럼(변수) 만들기\n",
    "df_null[\"동물\"] = 'Dog'\n",
    "df_null"
   ]
  }
 ],
 "metadata": {
  "kernelspec": {
   "display_name": "Python 3 (ipykernel)",
   "language": "python",
   "name": "python3"
  },
  "language_info": {
   "codemirror_mode": {
    "name": "ipython",
    "version": 3
   },
   "file_extension": ".py",
   "mimetype": "text/x-python",
   "name": "python",
   "nbconvert_exporter": "python",
   "pygments_lexer": "ipython3",
   "version": "3.9.7"
  }
 },
 "nbformat": 4,
 "nbformat_minor": 5
}
