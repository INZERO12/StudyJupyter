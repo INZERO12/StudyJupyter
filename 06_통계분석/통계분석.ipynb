{
 "cells": [
  {
   "cell_type": "markdown",
   "id": "ae5f2d62",
   "metadata": {},
   "source": [
    "# 통계분석"
   ]
  },
  {
   "cell_type": "code",
   "execution_count": 2,
   "id": "31e6e67b",
   "metadata": {},
   "outputs": [],
   "source": [
    "# 사용되는 라이브러리\n",
    "# sclpy > stats : t검정에 사용됨\n",
    "from scipy import stats\n",
    "import numpy"
   ]
  },
  {
   "cell_type": "code",
   "execution_count": 3,
   "id": "6395d6fe",
   "metadata": {},
   "outputs": [
    {
     "data": {
      "text/plain": [
       "array([169, 167, 175, 166, 162, 180, 172, 162, 173, 162, 181, 175, 181,\n",
       "       181, 162, 165, 172, 176, 167, 165])"
      ]
     },
     "execution_count": 3,
     "metadata": {},
     "output_type": "execute_result"
    }
   ],
   "source": [
    "# 학생 키에 대한 데이터20개 생성하기\n",
    "height_list = numpy.array([169, 167, 175, 166, 162, 180, 172,\n",
    "                             162, 173, 162, 181, 175, 181, 181,\n",
    "                             162, 165, 172, 176, 167, 165])\n",
    "height_list"
   ]
  },
  {
   "cell_type": "code",
   "execution_count": 5,
   "id": "23b89980",
   "metadata": {},
   "outputs": [],
   "source": [
    "# t-검정"
   ]
  },
  {
   "cell_type": "code",
   "execution_count": 10,
   "id": "334a6ebc",
   "metadata": {},
   "outputs": [],
   "source": [
    "tTestResult = stats.ttest_1samp(height_list, 170)"
   ]
  },
  {
   "cell_type": "code",
   "execution_count": 16,
   "id": "9a35d323",
   "metadata": {},
   "outputs": [
    {
     "data": {
      "text/plain": [
       "Ttest_1sampResult(statistic=0.42270173526659166, pvalue=0.6772582597305596)"
      ]
     },
     "execution_count": 16,
     "metadata": {},
     "output_type": "execute_result"
    }
   ],
   "source": [
    "# ststistic = 검정통계량\n",
    "# pvalue(p-value) = 유의수준\n",
    "\n",
    "# 170값 : 귀무가설에서 채택한 겂\n",
    "#       : 집단의 키 평균은 170이다\n",
    "\n",
    "# 대립가설 : 집단의 키 평균은 170이 아니다\n",
    "# t-검정의 목적 : 대립가설이 참인지 확인하는 것\n",
    "# 확인은 => p-value < 0.5 귀무가설 채택\n",
    "#           p-value >=0.5 귀무가설 기각\n",
    "# 채택과 기각은 대립가설을 기준으로 합니다\n",
    "\n",
    "tTestResult"
   ]
  },
  {
   "cell_type": "code",
   "execution_count": 12,
   "id": "60d26056",
   "metadata": {},
   "outputs": [
    {
     "name": "stdout",
     "output_type": "stream",
     "text": [
      "t검정통계량 = 0.423, p-value = 0.677\n"
     ]
    }
   ],
   "source": [
    "print(\"t검정통계량 = %.3f, p-value = %.3f\" % (tTestResult))"
   ]
  },
  {
   "cell_type": "code",
   "execution_count": 15,
   "id": "24e3c90d",
   "metadata": {},
   "outputs": [],
   "source": [
    "# 해석\n",
    "# statistic = 검정통계량 = 정확도\n",
    "# p-value = 유의수준 = 오차\n",
    "# 정확도 + 오차 = 1\n",
    "\n",
    "# t-검정을 통한 20개의 표본집단을 분석한 결과\n",
    "# 유의수준 0.05보다 크기 때문에\n",
    "# 집단의 키 평균은 170 이아니다.\n",
    "\n",
    "\n",
    "# t검정 : 정확도\n",
    "# p-value : 오차\n",
    "# p-value가 0.5보다 크기때문에 귀무가설은 기각\n",
    "# 대립가설 채택 => 집단의 키의 평균은 170이 아니다."
   ]
  },
  {
   "cell_type": "code",
   "execution_count": 17,
   "id": "38958fab",
   "metadata": {},
   "outputs": [],
   "source": [
    "# 두 집단"
   ]
  },
  {
   "cell_type": "code",
   "execution_count": 18,
   "id": "d7a70cff",
   "metadata": {},
   "outputs": [],
   "source": [
    "import numpy\n",
    "from scipy import stats"
   ]
  },
  {
   "cell_type": "code",
   "execution_count": 26,
   "id": "e3ca3296",
   "metadata": {},
   "outputs": [],
   "source": [
    "group1Heights = numpy.array([162, 168, 169, 165, 166, 168,\n",
    "                             162, 172, 157, 173, 158, 169,\n",
    "                             164, 170, 163, 175, 177, 162,\n",
    "                             175, 177])\n",
    "\n",
    "group2Heights = numpy.array([180, 181, 163, 164, 174, 169,\n",
    "                             164, 172, 162, 171, 180, 168,\n",
    "                             164, 169, 178, 177, 167, 179,\n",
    "                             172, 169])\n",
    "\n",
    "# 두 집단간 평균비교\n",
    "tTestResult = stats.ttest_ind(group1Heights, group2Heights)"
   ]
  },
  {
   "cell_type": "code",
   "execution_count": 28,
   "id": "a5e74f0b",
   "metadata": {},
   "outputs": [
    {
     "data": {
      "text/plain": [
       "Ttest_indResult(statistic=-1.8253194633881713, pvalue=0.07582039848129221)"
      ]
     },
     "execution_count": 28,
     "metadata": {},
     "output_type": "execute_result"
    }
   ],
   "source": [
    "tTestResult"
   ]
  },
  {
   "cell_type": "code",
   "execution_count": 29,
   "id": "315b30fe",
   "metadata": {},
   "outputs": [],
   "source": [
    "# 대응되는 두 집단, 가중치 부연된 특정 집단과의 분석"
   ]
  },
  {
   "cell_type": "code",
   "execution_count": 30,
   "id": "1aa60d4e",
   "metadata": {},
   "outputs": [],
   "source": [
    "import numpy\n",
    "from scipy import stats"
   ]
  },
  {
   "cell_type": "code",
   "execution_count": 31,
   "id": "3bd91c6e",
   "metadata": {},
   "outputs": [],
   "source": [
    "# 20개의 체중 데이터\n",
    "beforeWeights = numpy.array([80, 82, 76, 82, 65, 73, 77,\n",
    "                             78, 61, 81, 80, 70, 60, 83,\n",
    "                             89, 84, 85, 81, 67, 60])\n",
    "\n",
    "# 20개의 랜덤값 생성하기\n",
    "temp_list = []\n",
    "for i in beforeWeights : \n",
    "    # 랜덤한 가중치 부여\n",
    "    temp_list.append(i * numpy.random.normal(0.99, 0.02))\n",
    "    \n",
    "afterWeights = numpy.array(temp_list)\n",
    "\n",
    "tTestResult = stats.ttest_rel(beforeWeights, afterWeights)"
   ]
  },
  {
   "cell_type": "code",
   "execution_count": 32,
   "id": "4b44f06b",
   "metadata": {},
   "outputs": [
    {
     "data": {
      "text/plain": [
       "Ttest_relResult(statistic=3.925962183987017, pvalue=0.0009073751355940843)"
      ]
     },
     "execution_count": 32,
     "metadata": {},
     "output_type": "execute_result"
    }
   ],
   "source": [
    "tTestResult"
   ]
  },
  {
   "cell_type": "code",
   "execution_count": null,
   "id": "0c282329",
   "metadata": {},
   "outputs": [],
   "source": []
  },
  {
   "cell_type": "code",
   "execution_count": null,
   "id": "1d737c28",
   "metadata": {},
   "outputs": [],
   "source": []
  }
 ],
 "metadata": {
  "kernelspec": {
   "display_name": "Python 3 (ipykernel)",
   "language": "python",
   "name": "python3"
  },
  "language_info": {
   "codemirror_mode": {
    "name": "ipython",
    "version": 3
   },
   "file_extension": ".py",
   "mimetype": "text/x-python",
   "name": "python",
   "nbconvert_exporter": "python",
   "pygments_lexer": "ipython3",
   "version": "3.9.7"
  }
 },
 "nbformat": 4,
 "nbformat_minor": 5
}
