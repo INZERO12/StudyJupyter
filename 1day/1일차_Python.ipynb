{
 "cells": [
  {
   "cell_type": "code",
   "execution_count": 9,
   "id": "9190849e",
   "metadata": {},
   "outputs": [
    {
     "name": "stdout",
     "output_type": "stream",
     "text": [
      "Crtl + Enter\n"
     ]
    }
   ],
   "source": [
    "\"Hello Python\"\n",
    "print(\"Crtl + Enter\")"
   ]
  },
  {
   "cell_type": "code",
   "execution_count": null,
   "id": "ea1c8919",
   "metadata": {},
   "outputs": [],
   "source": [
    "print(\"Shift + Enter\")\n",
    "# 입력한 박스 영역 실행 후 다음 영역 있으면 넘어가고 없으면 새로운 박스"
   ]
  },
  {
   "cell_type": "code",
   "execution_count": 8,
   "id": "9cb18ffc",
   "metadata": {},
   "outputs": [
    {
     "name": "stdout",
     "output_type": "stream",
     "text": [
      "Alt + Enter\n"
     ]
    }
   ],
   "source": [
    "print(\"Alt + Enter\")\n",
    "# 입력한 박스 영역 실행 후 다음 영역에 새로운 박스"
   ]
  },
  {
   "cell_type": "code",
   "execution_count": 30,
   "id": "3bb3bd6a",
   "metadata": {},
   "outputs": [],
   "source": [
    "# dd : 선택한 박스 영역 삭제하기, 외부선택하고\n"
   ]
  },
  {
   "cell_type": "code",
   "execution_count": 31,
   "id": "1cf2630a",
   "metadata": {},
   "outputs": [],
   "source": [
    "# 제목 넣는 방법 -> 왼쪽의 빈 공간 m 키워드 입력"
   ]
  },
  {
   "cell_type": "markdown",
   "id": "7aace408",
   "metadata": {},
   "source": [
    "# 1.자료형"
   ]
  },
  {
   "cell_type": "markdown",
   "id": "128c46cd",
   "metadata": {},
   "source": [
    "## \n",
    "- 1.1 Nubers\n",
    "- 1.2 String\n",
    "- 1.3 List\n",
    "- 1.4 Tuple\n",
    "- 1.5 Dictionary"
   ]
  },
  {
   "cell_type": "markdown",
   "id": "b066067e",
   "metadata": {},
   "source": [
    "## 1.1숫자형(Number)\n",
    "#### \n",
    "- 숫자 형태로 이루어진 자료형\n",
    "- 정수형\n",
    "- 실수형"
   ]
  },
  {
   "cell_type": "markdown",
   "id": "99abdf11",
   "metadata": {},
   "source": [
    "## 1.2문자열(String)\n",
    "#### \n",
    "- 문자, 단어 등으로 구성된 문자들의 집합\n",
    "- 모두 큰따옴표(\" \")로 둘러싸여 있다\n",
    "1. 큰따옴표(\")로 양쪽 둘러싸기\n",
    "2. 작은따옴표(')로 양쪽 둘러싸기\n",
    "3. 큰따옴표 3개를 연속(\"\"\")으로 써서 양쪽 둘러싸기\n",
    "4. 작은따옴표 3개를 연속(''')으로 써서 양쪽 둘러싸기"
   ]
  },
  {
   "cell_type": "markdown",
   "id": "9add4bc9",
   "metadata": {},
   "source": [
    "## 1.3리스트(List)\n",
    "### \n",
    "- 대괄호([ ])로 감싸 주고 각 요솟값은 쉼표(,)로 구분해 준다\n",
    "- 인덱싱과 슬라이싱이 가능\n",
    "- 파이썬은 숫자를 0부터 세기 때문에 a[1]이 리스트 a의 첫 번째 요소가 아니라 a[0]이 리스트 a의 첫 번째 요소\n",
    "- 수시로 그 값을 변화시켜야할 경우라면 리스트를 사용\n",
    "- 리스트명 = [요소1, 요소2, 요소3, ...]"
   ]
  },
  {
   "cell_type": "markdown",
   "id": "f8204033",
   "metadata": {},
   "source": [
    "## 1.4튜플(tuple)\n",
    "### \n",
    "- 튜플은 ( )으로 둘러싼다\n",
    "- 리스트는 그 값의 생성, 삭제, 수정이 가능하지만 튜플은 그 값을 바꿀 수 없다\n",
    "- t2 = (1,)처럼 단지 1개의 요소만을 가질 때는 요소 뒤에 콤마(,)를 반드시 붙여야 한다\n",
    "- t4 = 1, 2, 3처럼 괄호( )를 생략해도 무방\n",
    "- 로그램이 실행되는 동안 그 값이 항상 변하지 않기를 바란다거나\n",
    "    값이 바뀔까 걱정하고 싶지 않다면 주저하지 말고 튜플을 사용\n"
   ]
  },
  {
   "cell_type": "markdown",
   "id": "f2649af9",
   "metadata": {},
   "source": [
    "## 1.5딕셔너리(Dictionary)\n",
    "### \n",
    "- Key와 Value를 한 쌍으로 갖는 자료형\n",
    "- Key를 통해 Value를 얻는다\n",
    "- baseball이라는 단어의 뜻을 찾기 위해 사전의 내용을 순차적으로 모두 검색하는 것이 아니라\n",
    "  baseball이라는 단어가 있는 곳만 펼쳐 보는 것\n",
    "- {Key1:Value1, Key2:Value2, Key3:Value3, ...}"
   ]
  },
  {
   "cell_type": "markdown",
   "id": "0faa5622",
   "metadata": {},
   "source": [
    "# 2. 함수\n",
    "### \n",
    "- 입력값을 가지고 어떤 일을 수행한 다음에 그 결과물을 내어놓는 것\n",
    "- \"반복적으로 사용되는 가치 있는 부분\"을 한 뭉치로 묶어서 \"어떤 입력값을 주었을 때      어떤 결괏값을 돌려준다\"\n",
    "- 자신이 만든 프로그램을 함수화하면 프로그램 흐름을 일목요연하게 볼 수 있다\n",
    "- def는 함수를 만들 때 사용하는 예약어\n",
    "    def 함수명(매개변수):\n",
    "    <수행할 문장1>\n",
    "    <수행할 문장2>\n",
    "    ...- \n",
    "- 함수 이름 뒤 괄호 안의 매개변수는 이 함수에 입력으로 전달되는 값을 받는 변수"
   ]
  },
  {
   "cell_type": "code",
   "execution_count": 40,
   "id": "d9b1e040",
   "metadata": {},
   "outputs": [],
   "source": [
    "def add(a, b): \n",
    "    return a + b\n",
    "\n",
    "# 이 함수의 이름(함수 이름)은 add이고 입력으로 2개의 값을 받으며 \n",
    "# 결괏값은 2개의 입력값을 더한 값이다."
   ]
  },
  {
   "cell_type": "markdown",
   "id": "6100e922",
   "metadata": {},
   "source": [
    "## 2.1 매개변수와 인수\n",
    "###  \n",
    "- 매개변수(parameter) : 함수에 입력으로 전달된 값을 받는 변수\n",
    "- 인수(arguments) : 함수를 호출할 때 전달하는 입력값"
   ]
  },
  {
   "cell_type": "code",
   "execution_count": 41,
   "id": "112c37ad",
   "metadata": {},
   "outputs": [
    {
     "name": "stdout",
     "output_type": "stream",
     "text": [
      "7\n"
     ]
    }
   ],
   "source": [
    "def add(a, b):  # a, b는 매개변수\n",
    "    return a+b\n",
    "\n",
    "print(add(3, 4))  # 3, 4는 인수"
   ]
  },
  {
   "cell_type": "markdown",
   "id": "296e5596",
   "metadata": {},
   "source": [
    "# 3. 데이터\n",
    "## 3.1 정형데이터\n",
    "## 3.2 반정형데이터\n",
    "## 3.3 비정형데이터"
   ]
  },
  {
   "cell_type": "code",
   "execution_count": null,
   "id": "d0239362",
   "metadata": {},
   "outputs": [],
   "source": []
  }
 ],
 "metadata": {
  "kernelspec": {
   "display_name": "Python 3 (ipykernel)",
   "language": "python",
   "name": "python3"
  },
  "language_info": {
   "codemirror_mode": {
    "name": "ipython",
    "version": 3
   },
   "file_extension": ".py",
   "mimetype": "text/x-python",
   "name": "python",
   "nbconvert_exporter": "python",
   "pygments_lexer": "ipython3",
   "version": "3.9.7"
  }
 },
 "nbformat": 4,
 "nbformat_minor": 5
}
